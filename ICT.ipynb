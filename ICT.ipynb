{
 "cells": [
  {
   "cell_type": "code",
   "execution_count": 1,
   "id": "e5b53924-79a5-4295-a491-3bdfc9f38420",
   "metadata": {},
   "outputs": [
    {
     "name": "stdout",
     "output_type": "stream",
     "text": [
      "The number is 10\n",
      "The number is 10\n"
     ]
    }
   ],
   "source": [
    "a = 10\n",
    "print(\"The number is\", a)\n",
    "print(\"The number is \" + str(a))"
   ]
  },
  {
   "cell_type": "code",
   "execution_count": null,
   "id": "86d11fd8-81b2-43ef-8514-0932d7f01833",
   "metadata": {},
   "outputs": [],
   "source": [
    "l = int(input())\n",
    "b = int(input())\n",
    "print(\"Area of rectangle is\", l * b)\n",
    "print(\"Perimeter of rectangle is\", l + b + l + b)"
   ]
  },
  {
   "cell_type": "code",
   "execution_count": null,
   "id": "194244a0-f18b-4506-8daf-f4c1b7b65d21",
   "metadata": {},
   "outputs": [],
   "source": [
    "cost = float(input)\"Cost: \"))\n",
    "ppl = int(input(\"Pax: \"))\n",
    "\n",
    "# calculate gst and sc\n",
    "sc = cost * 0.1 \n",
    "gst (cost + sc) * 0.09"
   ]
  }
 ],
 "metadata": {
  "kernelspec": {
   "display_name": "Python 3 (ipykernel)",
   "language": "python",
   "name": "python3"
  },
  "language_info": {
   "codemirror_mode": {
    "name": "ipython",
    "version": 3
   },
   "file_extension": ".py",
   "mimetype": "text/x-python",
   "name": "python",
   "nbconvert_exporter": "python",
   "pygments_lexer": "ipython3",
   "version": "3.8.18"
  }
 },
 "nbformat": 4,
 "nbformat_minor": 5
}
